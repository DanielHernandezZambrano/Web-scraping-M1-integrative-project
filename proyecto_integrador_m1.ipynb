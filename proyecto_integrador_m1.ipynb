{
 "cells": [
  {
   "cell_type": "code",
   "execution_count": 1,
   "metadata": {},
   "outputs": [],
   "source": [
    "import requests\n",
    "from bs4 import BeautifulSoup\n",
    "import pandas as pd\n",
    "import datetime\n",
    "\n",
    "fecha_hoy = datetime.date.today()\n",
    "fecha_de_hoy = fecha_hoy.strftime('%d/%m/%Y')"
   ]
  },
  {
   "cell_type": "code",
   "execution_count": 2,
   "metadata": {},
   "outputs": [],
   "source": [
    "url_base = 'https://cuspide.com/100-mas-vendidos/'    # Paso 1 obtener html\n",
    "pedido = requests.get(url_base)\n",
    "html_obtenido = pedido.text                           # Paso 2. html pasarlo a texto ya que si no, nos devuelve un object de requests\n",
    "\n",
    "soup = BeautifulSoup(html_obtenido, 'html.parser')    # 3. atribuirlo a oup para 'parsear'"
   ]
  },
  {
   "cell_type": "code",
   "execution_count": 3,
   "metadata": {},
   "outputs": [],
   "source": [
    "h3 = soup.find_all('h3')   # aislamos la etiqueta h3 donde se encuentran el titulo y la url\n",
    "titulo_obtenido =[]        # obtenemos el titulo\n",
    "\n",
    "for n in h3:\n",
    "    titulo = n.find('a').text.strip()\n",
    "    titulo_obtenido.append(titulo)"
   ]
  },
  {
   "cell_type": "code",
   "execution_count": 4,
   "metadata": {},
   "outputs": [],
   "source": [
    "url_obtenida = []           # Obtenemos la url\n",
    "for url in h3:\n",
    "    u = url.find('a').get('href')\n",
    "    url_obtenida.append(u)"
   ]
  },
  {
   "cell_type": "code",
   "execution_count": 5,
   "metadata": {},
   "outputs": [
    {
     "name": "stdout",
     "output_type": "stream",
     "text": [
      "> El libro: ZENSORIALMENTE, no se pudo añadir \n",
      "\n",
      "> El libro: HABITOS ATOMICOS, no se pudo añadir \n",
      "\n",
      "> El libro: LO MEJOR Y LO PEOR DE INTERNET, no se pudo añadir \n",
      "\n",
      "> El libro: LA SOCIEDAD DE LA NIEVE, no se pudo añadir \n",
      "\n",
      "> El libro: DEJA DE SER TU, no se pudo añadir \n",
      "\n",
      "> El libro: COMO HACER QUE TE PASEN COSAS BUENAS, no se pudo añadir \n",
      "\n",
      "> El libro: NUESTRA PARTE DE NOCHE, no se pudo añadir \n",
      "\n",
      "> El libro: CUANDO NO QUEDEN MAS ESTRELLAS QUE CONTAR, no se pudo añadir \n",
      "\n",
      "> El libro: EL CAMINO DEL ARTISTA, no se pudo añadir \n",
      "\n",
      "> El libro: LA PACIENTE SILENCIOSA, no se pudo añadir \n",
      "\n",
      "> El libro: LA CASA DE LOS SUICIDIOS, no se pudo añadir \n",
      "\n",
      "> El libro: LOS ARBOLES CAIDOS TAMBIEN SON DEL BOSQUE., no se pudo añadir \n",
      "\n",
      "> El libro: EL NI/O RESENTIDO, no se pudo añadir \n",
      "\n",
      "> El libro: LA INFANCIA DEL MUNDO, no se pudo añadir \n",
      "\n",
      "> El libro: 73 MARGARITAS, no se pudo añadir \n",
      "\n",
      "> El libro: MUCHAS VIDAS , MUCHOS MAESTROS, no se pudo añadir \n",
      "\n",
      "> El libro: EL DIA QUE DEJO DE NEVAR EN ALASKA, no se pudo añadir \n",
      "\n",
      "> El libro: LA VIDA INVISIBLE DE ADDIE LARUE, no se pudo añadir \n",
      "\n",
      "> El libro: TEORIA DE LA GRAVEDAD, no se pudo añadir \n",
      "\n",
      "> El libro: GUARDIANES DE ROSARIO, no se pudo añadir \n",
      "\n"
     ]
    }
   ],
   "source": [
    "precio_pesos = []\n",
    "precio_dolar = []\n",
    "\n",
    "for e in url_obtenida:   # por cada url, hago un request\n",
    "\n",
    "      url_bucle = e\n",
    "      pedido2 = requests.get(url_bucle)\n",
    "      html = pedido2.text\n",
    "      sopa_bucle = BeautifulSoup(html, 'html.parser')\n",
    "\n",
    "      t = sopa_bucle.find('h1').text.strip()\n",
    "\n",
    "      try:\n",
    "         # obtenemos el precio en pesos\n",
    "        precio = sopa_bucle.find('p', class_='price product-page-price')\n",
    "        precio_texto = precio.text.strip().replace('&nbsp;', '').replace('$', '').replace('\\\\xa0', '').replace('.', '')\n",
    "        precio2 = float(precio_texto.replace(',', '.'))\n",
    "        precio_pesos.append(precio2)\n",
    "\n",
    "           # **Obtenemos el precio en dólares**\n",
    "        precio_dolars = sopa_bucle.find('span', style='font-size: 1.3em').text#.strip()#.replace('&nbsp;', '')\n",
    "        precio_dolars2 = float(precio_dolars.replace(',', '.'))\n",
    "        precio_dolar.append(precio_dolars2)\n",
    "\n",
    "        #print(f'se añadio {t} con precios, pesos: {precio2}, dolar: {precio_dolars2} \\n')\n",
    "      except:\n",
    "         print(f'> El libro: {t}, no se pudo añadir \\n')\n",
    "         precio_pesos.append(None)\n",
    "         precio_dolar.append(None)"
   ]
  },
  {
   "cell_type": "code",
   "execution_count": 6,
   "metadata": {},
   "outputs": [],
   "source": [
    "# obtenemos el precio dolar blue\n",
    "url_blue = 'https://www.clarin.com/economia/divisas-acciones-bonos?gclid=Cj0KCQiA-62tBhDSARIsAO7twbYBCdmDyspJS1SAuZ8OcXFZZKpEUJx-A93vXK2IlRpKwbhC9_-eEAIaAk6IEALw_wcB'\n",
    "pedido3 = requests.get(url_blue)\n",
    "html3 = pedido3.text\n",
    "sopa_blue = BeautifulSoup(html3, 'html.parser')\n",
    "\n",
    "blue = sopa_blue.find_all('div', class_='selling')\n",
    "blues = []\n",
    "\n",
    "for n in blue:\n",
    "    num = n.find('span').text.strip()\n",
    "    blues.append(num)\n",
    "\n",
    "blue_verdadero = float(blues[2].replace('$', ''))  # por fin el dolar blue"
   ]
  },
  {
   "cell_type": "code",
   "execution_count": 7,
   "metadata": {},
   "outputs": [],
   "source": [
    "precio_blue = []\n",
    "\n",
    "for p in range(len(precio_pesos)):\n",
    "    if precio_pesos[p] != None:\n",
    "        precio_blue.append(round(precio_pesos[p]/blue_verdadero, 2))\n",
    "    else:\n",
    "        precio_blue.append(None)"
   ]
  },
  {
   "cell_type": "code",
   "execution_count": 8,
   "metadata": {},
   "outputs": [],
   "source": [
    "# creamos un dataframe a partir de un diccionario\n",
    "d= dict( titulo = titulo_obtenido,\n",
    "        url = url_obtenida,\n",
    "        precio_pesos = precio_pesos,\n",
    "        precio_dolar = precio_dolar,\n",
    "        precio_dolar_blue = precio_blue,\n",
    "        fecha = fecha_de_hoy)\n",
    "\n",
    "df = pd.DataFrame(d)\n",
    "df.to_csv('top_cien_cuspide.csv', sep='|', encoding='utf-8', index=False)"
   ]
  }
 ],
 "metadata": {
  "kernelspec": {
   "display_name": "Python 3",
   "language": "python",
   "name": "python3"
  },
  "language_info": {
   "codemirror_mode": {
    "name": "ipython",
    "version": 3
   },
   "file_extension": ".py",
   "mimetype": "text/x-python",
   "name": "python",
   "nbconvert_exporter": "python",
   "pygments_lexer": "ipython3",
   "version": "3.10.11"
  }
 },
 "nbformat": 4,
 "nbformat_minor": 2
}
